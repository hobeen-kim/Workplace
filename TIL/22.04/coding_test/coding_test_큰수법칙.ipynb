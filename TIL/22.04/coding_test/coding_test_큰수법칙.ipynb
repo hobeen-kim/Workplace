{
 "cells": [
  {
   "cell_type": "markdown",
   "metadata": {},
   "source": [
    "# 1. 큰 수 법칙\n",
    "다양한 수로 이루어진 배열이 있을 때 주어진 수들을 M번 더하여 가장 큰 수를 만드는 법칙 / 단, 연속으로 k번만 더해질 수 있음\n",
    "ex) 배열 = 2, 4, 5, 6, 4\n",
    " M = 8, K = 3\n",
    " 결과 : 6 + 6 + 6 + 5 + 6 + 6 + 6 + 5 = 46"
   ]
  },
  {
   "cell_type": "markdown",
   "metadata": {},
   "source": [
    "### 초기값 설정"
   ]
  },
  {
   "cell_type": "code",
   "execution_count": 5,
   "metadata": {},
   "outputs": [],
   "source": [
    "n, m, k = map(int, input().split()) #배열 크기, 숫자 더해지는 횟수, 인덱스k\n",
    "arr = list(map(int, input().split()))"
   ]
  },
  {
   "cell_type": "markdown",
   "metadata": {},
   "source": [
    "### 계산\n",
    " - cnt가 k 만큼 쌓이면 다음 큰 수 출력"
   ]
  },
  {
   "cell_type": "code",
   "execution_count": 6,
   "metadata": {},
   "outputs": [],
   "source": [
    "cnt = 0 #인덱스 k 계산\n",
    "result = 0\n",
    "arr.sort()\n",
    "big_num = arr[n-1]\n",
    "nxt_num = arr[n-2]\n",
    "\n",
    "for i in range(m):\n",
    "    # cnt가 k 만큼 쌓이면 다음 큰 수 더하기\n",
    "    if cnt < k:\n",
    "        result += big_num\n",
    "        cnt += 1\n",
    "    else:\n",
    "        result += nxt_num\n",
    "        cnt = 0"
   ]
  },
  {
   "cell_type": "code",
   "execution_count": 9,
   "metadata": {},
   "outputs": [
    {
     "name": "stdout",
     "output_type": "stream",
     "text": [
      "32\n"
     ]
    }
   ],
   "source": [
    "print(result)"
   ]
  },
  {
   "cell_type": "markdown",
   "metadata": {},
   "source": [
    "# 2. 숫자카드 게임\n",
    "- 여러 개의 숫자 카드 중에서 가장 높은 숫자가 쓰인 카드 한 장을 뽑는 게임\n",
    "1. n x m 형태\n",
    "1. 먼저 뽑고자 하는 카드가 포함되어 있는 행 선택\n",
    "1. 선택 행 중 가장 숫자가 낮은 카드를 뽑음\n",
    "1. 따라서 처음에 카드를 골라낼 행 선택시, 해당 행에서 가장 숫자가 낮은 카드를 뽑을 것을 고려하여 최종적으로 가장 높은 숫자의 카드를 뽑을 수 있도록 해야 함\n"
   ]
  },
  {
   "cell_type": "markdown",
   "metadata": {},
   "source": [
    "#### 입력 형태  \n",
    "3 3      \n",
    "\n",
    "3 1 2\n",
    "\n",
    "4 1 4\n",
    "\n",
    "2 2 2\n",
    "#### 출력 형태\n",
    "2"
   ]
  },
  {
   "cell_type": "code",
   "execution_count": 18,
   "metadata": {},
   "outputs": [
    {
     "name": "stdout",
     "output_type": "stream",
     "text": [
      "3\n"
     ]
    }
   ],
   "source": [
    "#입력\n",
    "n, m = map(int, input().split())\n",
    "arr = [list(map(int, input().split())) for _ in range(n)]\n",
    "\n",
    "#카드 뽑기\n",
    "min_list = []\n",
    "for i in range(n):\n",
    "    min_list.append(min(arr[i]))\n",
    "\n",
    "print(max(min_list))\n",
    "\n",
    "\n",
    "            "
   ]
  },
  {
   "cell_type": "markdown",
   "metadata": {},
   "source": [
    "# 3. 1이 될 때까지\n",
    "- 어떤 수 N이 1이 될 때까지 다음의 두 과정 중 하나를 반복적으로 선택하여 수행\n",
    "- 단 두번째 연산은 N이 K로 나누어떨어질 때만 수행\n",
    "1. N에서 1을 뺀다\n",
    "2. N을 K로 나눈다"
   ]
  },
  {
   "cell_type": "markdown",
   "metadata": {},
   "source": [
    "수행방법 : while 문으로 n%k = 0 이면 나누고, 아니면 1 빼고"
   ]
  },
  {
   "cell_type": "code",
   "execution_count": 22,
   "metadata": {},
   "outputs": [
    {
     "name": "stdout",
     "output_type": "stream",
     "text": [
      "32\n"
     ]
    }
   ],
   "source": [
    "n, k = map(int, input().split())\n",
    "cnt = 0\n",
    "while True:\n",
    "    if n == 1: #while문 탈출 조건 : n == 1\n",
    "        break\n",
    "\n",
    "    if n%k == 0:\n",
    "        n /= k\n",
    "        cnt += 1\n",
    "    else:\n",
    "        n -= 1\n",
    "        cnt += 1\n",
    "\n",
    "print(cnt)"
   ]
  },
  {
   "cell_type": "markdown",
   "metadata": {},
   "source": [
    "### 3.1 더 빠른 방법 (숫자가 클 때 빠르게 처리)"
   ]
  },
  {
   "cell_type": "code",
   "execution_count": 27,
   "metadata": {},
   "outputs": [
    {
     "name": "stdout",
     "output_type": "stream",
     "text": [
      "2.0\n"
     ]
    }
   ],
   "source": [
    "n, k = map(int, input().split())\n",
    "cnt = 0\n",
    "while True:\n",
    "    if n <= 1:\n",
    "        break\n",
    "    div = n%k #k로 나눴을 때 나머지는 전부 바로 cnt에 더해줌\n",
    "    cnt += div\n",
    "    n -= div # n은 k의 배수\n",
    "    n /= k # 따라서 k를 나눠주고 cnt += 1\n",
    "    cnt += 1\n",
    "\n",
    "print(cnt)\n",
    "\n"
   ]
  }
 ],
 "metadata": {
  "interpreter": {
   "hash": "42588fd11209419b7c81abe23e31a1d2101f60811b02170c268e57ebb57d5d9a"
  },
  "kernelspec": {
   "display_name": "Python 3.9.7 ('base')",
   "language": "python",
   "name": "python3"
  },
  "language_info": {
   "name": "python",
   "version": "3.9.7"
  },
  "orig_nbformat": 4
 },
 "nbformat": 4,
 "nbformat_minor": 2
}
