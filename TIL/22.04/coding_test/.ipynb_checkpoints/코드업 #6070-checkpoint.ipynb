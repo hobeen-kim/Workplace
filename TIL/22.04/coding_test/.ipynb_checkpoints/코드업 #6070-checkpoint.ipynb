{
 "cells": [
  {
   "cell_type": "markdown",
   "id": "fbcd851e",
   "metadata": {},
   "source": [
    "# 설탕과자 뽑기\n",
    "\n",
    "부모님과 함께 놀러간 영일이는\n",
    "설탕과자(설탕을 녹여 물고기 등의 모양을 만든 것) 뽑기를 보게 되었다.\n",
    "\n",
    "길이가 다른 몇 개의 막대를 바둑판과 같은 격자판에 놓는데,\n",
    "\n",
    "막대에 있는 설탕과자 이름 아래에 있는 번호를 뽑으면 설탕과자를 가져가는 게임이었다.\n",
    "(잉어, 붕어, 용 등 여러 가지가 적혀있다.)\n",
    "\n",
    "격자판의 세로(h), 가로(w), 막대의 개수(n), 각 막대의 길이(l),\n",
    "막대를 놓는 방향(d:가로는 0, 세로는 1)과\n",
    "막대를 놓는 막대의 가장 왼쪽 또는 위쪽의 위치(x, y)가 주어질 때,\n",
    "\n",
    "격자판을 채운 막대의 모양을 출력하는 프로그램을 만들어보자.\n",
    "\n",
    "- 입력\n",
    "첫 줄에 격자판의 세로(h), 가로(w) 가 공백을 두고 입력되고,\n",
    "두 번째 줄에 놓을 수 있는 막대의 개수(n)\n",
    "세 번째 줄부터 각 막대의 길이(l), 방향(d), 좌표(x, y)가 입력된다.\n",
    "1 <= w, h <= 100\n",
    "1 <= n <= 10\n",
    "d = 0 or 1\n",
    "1 <= x <= 100-h\n",
    "1 <= y <= 100-w\n",
    "- 입력 예시\n",
    "\n",
    "5 5\n",
    "\n",
    "3\n",
    "\n",
    "2 0 1 1\n",
    "\n",
    "3 1 2 3\n",
    "\n",
    "4 1 2 5\n",
    "\n",
    "- 출력\n",
    "모든 막대를 놓은 격자판의 상태를 출력한다.\n",
    "막대에 의해 가려진 경우 1, 아닌 경우 0으로 출력한다.\n",
    "단, 각 숫자는 공백으로 구분하여 출력한다.\n",
    "- 출력 예시\n",
    "\n",
    "1 1 0 0 0\n",
    "\n",
    "0 0 1 0 1\n",
    "\n",
    "0 0 1 0 1\n",
    "\n",
    "0 0 1 0 1\n",
    "\n",
    "0 0 0 0 1\n"
   ]
  },
  {
   "cell_type": "markdown",
   "id": "fa53cde7",
   "metadata": {},
   "source": [
    "### 데이터 받기 / 격자판 만들기"
   ]
  },
  {
   "cell_type": "code",
   "execution_count": 45,
   "id": "4c82004a",
   "metadata": {},
   "outputs": [],
   "source": [
    "# plate = []\n",
    "# sticks = [] #길이, 방향, x좌표, y좌표\n",
    "# h, w = map(int, input().split())\n",
    "# number = int(input())\n",
    "# for i in range(number):\n",
    "#     k = list(map(int, input().split()))\n",
    "#     sticks.append(k)\n",
    "\n",
    "# for i in range(h):\n",
    "#     plate.append([])\n",
    "#     for j in range(w):\n",
    "#         plate[i].append(0)\n",
    "        \n",
    "plate = [[0, 0, 0, 0, 0],\n",
    "         [0, 0, 0, 0, 0],\n",
    "         [0, 0, 0, 0, 0],\n",
    "         [0, 0, 0, 0, 0],\n",
    "         [0, 0, 0, 0, 0],\n",
    "        ]\n",
    "number = 3\n",
    "sticks =[[2, 0, 1, 1], [3, 1, 2, 3], [4, 1, 2, 5]]"
   ]
  },
  {
   "cell_type": "markdown",
   "id": "62eb8b28",
   "metadata": {},
   "source": [
    "### 1개에 대해 그리기"
   ]
  },
  {
   "cell_type": "code",
   "execution_count": 22,
   "id": "a46aec8f",
   "metadata": {},
   "outputs": [
    {
     "name": "stdout",
     "output_type": "stream",
     "text": [
      "[[1, 1, 0, 0, 0], [0, 0, 0, 0, 0], [0, 0, 0, 0, 0], [0, 0, 0, 0, 0], [0, 0, 0, 0, 0]]\n"
     ]
    }
   ],
   "source": [
    "# 최초 위치는 stick[number-1][2:]\n",
    "length = sticks[0][0]\n",
    "direction = sticks[0][1]\n",
    "x = sticks[0][2]-1\n",
    "y = sticks[0][3]-1\n",
    "\n",
    "plate[x][y] = 1\n",
    "if direction == 0:\n",
    "    for i in range(length):\n",
    "        plate[x][y+i] = 1\n",
    "        \n",
    "if direction == 1:\n",
    "    for i in range(length):\n",
    "        plate[x+i][y] = 1\n",
    "        \n",
    "print(plate)\n"
   ]
  },
  {
   "cell_type": "markdown",
   "id": "b4cedf30",
   "metadata": {},
   "source": [
    "### 반복문"
   ]
  },
  {
   "cell_type": "code",
   "execution_count": 32,
   "id": "3d714d70",
   "metadata": {},
   "outputs": [
    {
     "name": "stdout",
     "output_type": "stream",
     "text": [
      "2 0 0 0\n",
      "3 1 1 2\n",
      "4 1 1 4\n"
     ]
    }
   ],
   "source": [
    " for i in range(number):\n",
    "    length = sticks[i][0]\n",
    "    direction = sticks[i][1]\n",
    "    x = sticks[i][2]-1\n",
    "    y = sticks[i][3]-1\n",
    "    print(length, direction, x, y)\n",
    "    plate[x][y] = 1\n",
    "    if direction == 0:\n",
    "        for i in range(1, length):\n",
    "            plate[x][y+i] = 1\n",
    "\n",
    "    if direction == 1:\n",
    "        for i in range(1, length):\n",
    "            plate[x+i][y] = 1"
   ]
  },
  {
   "cell_type": "markdown",
   "id": "e9738162",
   "metadata": {},
   "source": [
    "### 출력"
   ]
  },
  {
   "cell_type": "code",
   "execution_count": 34,
   "id": "2ad1b844",
   "metadata": {},
   "outputs": [
    {
     "name": "stdout",
     "output_type": "stream",
     "text": [
      "1 1 0 0 0\n",
      "0 0 1 0 1\n",
      "0 0 1 0 1\n",
      "0 0 1 0 1\n",
      "0 0 0 0 1\n"
     ]
    }
   ],
   "source": [
    "for i in range(h):\n",
    "    k = list(map(str, plate[i]))\n",
    "    print(\" \".join(k))"
   ]
  },
  {
   "cell_type": "markdown",
   "id": "1a6c26c3",
   "metadata": {},
   "source": [
    "## 문제 이외\n",
    "1. 겹쳤을 때 예외 처리\n",
    "2. 나갔을 때 예외 처리"
   ]
  },
  {
   "cell_type": "markdown",
   "id": "2ef3a725",
   "metadata": {},
   "source": [
    "### 겹쳤을 때 예외 처리(시작점은 안겹친다고 가정)\n",
    "- 1번부터 순서대로 놓는고 했을 때\n",
    "- 다음 놓는게 0이면 놓고, 아니면 겹친다고 출력"
   ]
  },
  {
   "cell_type": "code",
   "execution_count": 46,
   "id": "6f47a233",
   "metadata": {},
   "outputs": [
    {
     "name": "stdout",
     "output_type": "stream",
     "text": [
      "1 1 0 0 0\n",
      "0 0 1 0 1\n",
      "0 0 1 0 1\n",
      "0 0 1 0 1\n",
      "0 0 0 0 1\n"
     ]
    }
   ],
   "source": [
    "for i in range(number):\n",
    "    length = sticks[i][0]\n",
    "    direction = sticks[i][1]\n",
    "    x = sticks[i][2]-1\n",
    "    y = sticks[i][3]-1\n",
    "    if plate[x][y] == 1:\n",
    "        print(f\"{i+1}번 stick이 겹칩니다\")\n",
    "    else:\n",
    "        plate[x][y] = 1\n",
    "        if direction == 0:\n",
    "            for i in range(1, length):\n",
    "                if plate[x][y+i] == 0:\n",
    "                    plate[x][y+i] = 1\n",
    "                else:\n",
    "                    print(f\"{i+1}번 stick이 겹칩니다\")\n",
    "\n",
    "\n",
    "        if direction == 1:\n",
    "            for i in range(1, length):\n",
    "                if plate[x+i][y] == 0:\n",
    "                    plate[x+i][y] = 1\n",
    "                else:\n",
    "                    print(f\"{i+1}번 stick이 겹칩니다\")\n",
    "            \n",
    "for i in range(h):\n",
    "    k = list(map(str, plate[i]))\n",
    "    print(\" \".join(k))"
   ]
  },
  {
   "cell_type": "markdown",
   "id": "3d98d35c",
   "metadata": {},
   "source": [
    "### 밖으로 나갔을 때 예외처리\n",
    "\n",
    "- for문 안에서 try, except 예외 처리(몇번째 스틱에서 오류났는지 확인하기 위해)\n",
    "\n",
    "for ~:<br/>\n",
    "      try:<br/>\n",
    "         ~<br/>\n",
    "     except:<br/>\n",
    "         i번째에서 오류<br/>"
   ]
  },
  {
   "cell_type": "code",
   "execution_count": null,
   "id": "dd3ce1a5",
   "metadata": {},
   "outputs": [],
   "source": [
    "for i in range(number):\n",
    "    try:\n",
    "        length = sticks[i][0]\n",
    "        direction = sticks[i][1]\n",
    "        x = sticks[i][2]-1\n",
    "        y = sticks[i][3]-1\n",
    "        if plate[x][y] == 1:\n",
    "            print(f\"{i+1}번 stick이 겹칩니다1\")\n",
    "        else:\n",
    "            plate[x][y] = 1\n",
    "            if direction == 0:\n",
    "                for i in range(1, length):\n",
    "                    if plate[x][y+i] == 0:\n",
    "                        plate[x][y+i] = 1\n",
    "                    else:\n",
    "                        print(f\"{i+1}번 stick이 겹칩니다2\")\n",
    "\n",
    "\n",
    "            if direction == 1:\n",
    "                for i in range(1, length):\n",
    "                    if plate[x+i][y] == 0:\n",
    "                        plate[x+i][y] = 1\n",
    "                    else:\n",
    "                        print(f\"{i+1}번 stick이 겹칩니다3\")\n",
    "    except IndexError as e:\n",
    "        print(f\"{i-1}번째 스틱 오류\")"
   ]
  }
 ],
 "metadata": {
  "kernelspec": {
   "display_name": "Python 3 (ipykernel)",
   "language": "python",
   "name": "python3"
  },
  "language_info": {
   "codemirror_mode": {
    "name": "ipython",
    "version": 3
   },
   "file_extension": ".py",
   "mimetype": "text/x-python",
   "name": "python",
   "nbconvert_exporter": "python",
   "pygments_lexer": "ipython3",
   "version": "3.9.7"
  }
 },
 "nbformat": 4,
 "nbformat_minor": 5
}
