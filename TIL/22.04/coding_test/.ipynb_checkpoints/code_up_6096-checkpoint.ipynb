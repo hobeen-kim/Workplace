{
 "cells": [
  {
   "cell_type": "markdown",
   "id": "2ae6e843",
   "metadata": {},
   "source": [
    "# 바둑알 십자 뒤집기\n",
    "부모님을 기다리던 영일이는 검정/흰 색 바둑알을 바둑판에 꽉 채워 깔아 놓고 놀다가...\n",
    "\n",
    "\"십(+)자 뒤집기를 해볼까?\"하고 생각했다.\n",
    "\n",
    "십자 뒤집기는\n",
    "그 위치에 있는 모든 가로줄 돌의 색을 반대(1->0, 0->1)로 바꾼 후, \n",
    "다시 그 위치에 있는 모든 세로줄 돌의 색을 반대로 바꾸는 것이다.\n",
    "어떤 위치를 골라 집자 뒤집기를 하면, 그 위치를 제외한 가로줄과 세로줄의 색이 모두 반대로 바뀐다.\n",
    "\n",
    "바둑판(19 * 19)에 흰 돌(1) 또는 검정 돌(0)이 모두 꽉 채워져 놓여있을 때,\n",
    "n개의 좌표를 입력받아 십(+)자 뒤집기한 결과를 출력하는 프로그램을 작성해보자.\n"
   ]
  },
  {
   "cell_type": "markdown",
   "id": "675473ff",
   "metadata": {},
   "source": [
    "## 초기값 정의(plate, n, x, y)\n",
    "- x, y 변수는 계속 바뀌므로 for 문 안에 넣어주면 편함"
   ]
  },
  {
   "cell_type": "code",
   "execution_count": null,
   "id": "3aaa878f",
   "metadata": {},
   "outputs": [],
   "source": [
    "plate = []\n",
    "for i in range(19):\n",
    "    k = list(map(int, input().split()))\n",
    "    plate.append(k)\n",
    "n = int(input())\n",
    "for j in range(n):\n",
    "    x, y = map(int, input().split())\n",
    "    x -= 1 #x, y좌표를 하나씩 빼줘야 맞음\n",
    "    y -= 1"
   ]
  },
  {
   "cell_type": "markdown",
   "id": "ee576645",
   "metadata": {},
   "source": [
    "## 뒤집기"
   ]
  },
  {
   "cell_type": "code",
   "execution_count": null,
   "id": "99cea3fc",
   "metadata": {},
   "outputs": [],
   "source": [
    "    for i in range(19):\n",
    "        if plate[x][i] == 0:\n",
    "            plate[x][i] = 1\n",
    "        \n",
    "        else:\n",
    "            plate[x][i] = 0\n",
    "\n",
    "        if plate[i][y] == 0:\n",
    "            plate[i][y] = 1\n",
    "        else:\n",
    "            plate[i][y] = 0"
   ]
  },
  {
   "cell_type": "markdown",
   "id": "45db97a7",
   "metadata": {},
   "source": [
    "## 출력문\n",
    " - 이렇게 외워서 코드 간단하게 써야 할 듯\n"
   ]
  },
  {
   "cell_type": "code",
   "execution_count": null,
   "id": "8bc4c6b8",
   "metadata": {},
   "outputs": [],
   "source": [
    "for i in range(19):\n",
    "    for j in range(19):\n",
    "        print(plate[i][j], end=\" \")\n",
    "    print()"
   ]
  }
 ],
 "metadata": {
  "kernelspec": {
   "display_name": "Python 3 (ipykernel)",
   "language": "python",
   "name": "python3"
  },
  "language_info": {
   "codemirror_mode": {
    "name": "ipython",
    "version": 3
   },
   "file_extension": ".py",
   "mimetype": "text/x-python",
   "name": "python",
   "nbconvert_exporter": "python",
   "pygments_lexer": "ipython3",
   "version": "3.9.7"
  }
 },
 "nbformat": 4,
 "nbformat_minor": 5
}
