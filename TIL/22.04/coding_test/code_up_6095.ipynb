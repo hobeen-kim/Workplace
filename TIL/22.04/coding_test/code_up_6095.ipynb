{
 "cells": [
  {
   "cell_type": "markdown",
   "id": "6f0fda48",
   "metadata": {},
   "source": [
    "# 바둑판에 흰 돌 놓기\n",
    "기숙사 생활을 하는 학교에서 어떤 금요일(전원 귀가일)에는 모두 집으로 귀가를 한다.\n",
    "\n",
    "오랜만에 집에 간 영일이는 아버지와 함께 두던 매우 큰 오목에 대해서 생각해 보다가\n",
    "\"바둑판에 돌을 올린 것을 프로그래밍 할 수 있을까?\"하고 생각하였다.\n",
    "\n",
    "바둑판(19 * 19)에 n개의 흰 돌을 놓는다고 할 때,\n",
    "n개의 흰 돌이 놓인 위치를 출력하는 프로그램을 작성해보자."
   ]
  },
  {
   "cell_type": "code",
   "execution_count": null,
   "id": "7819bb6e",
   "metadata": {},
   "outputs": [],
   "source": [
    "# 바로 코드 적용\n",
    "plate = [ [0] * 19 for j in range(20)]\n",
    "\n",
    "n = int(input())\n",
    "\n",
    "for _ in range(n):\n",
    "    x, y = list(map(int, input().split()))\n",
    "    plate[x-1][y-1] = 1\n",
    "\n",
    "for i in range(19):\n",
    "    for j in range(19):\n",
    "        print(plate[i][j], end=\" \")\n",
    "    print()"
   ]
  },
  {
   "cell_type": "markdown",
   "id": "0c90cb7c",
   "metadata": {},
   "source": [
    "파이썬 코드업 6000 ~ 6100까지 풀어보라고 들었는데 처음은 너무 쉬워서 뒤에서부터 풀긴 함\n",
    "근데 "
   ]
  }
 ],
 "metadata": {
  "kernelspec": {
   "display_name": "Python 3 (ipykernel)",
   "language": "python",
   "name": "python3"
  },
  "language_info": {
   "codemirror_mode": {
    "name": "ipython",
    "version": 3
   },
   "file_extension": ".py",
   "mimetype": "text/x-python",
   "name": "python",
   "nbconvert_exporter": "python",
   "pygments_lexer": "ipython3",
   "version": "3.9.7"
  }
 },
 "nbformat": 4,
 "nbformat_minor": 5
}
